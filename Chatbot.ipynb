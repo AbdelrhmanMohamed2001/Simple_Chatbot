{
  "nbformat": 4,
  "nbformat_minor": 0,
  "metadata": {
    "colab": {
      "provenance": []
    },
    "kernelspec": {
      "name": "python3",
      "display_name": "Python 3"
    },
    "language_info": {
      "name": "python"
    }
  },
  "cells": [
    {
      "cell_type": "code",
      "source": [
        "! pip install nltk"
      ],
      "metadata": {
        "colab": {
          "base_uri": "https://localhost:8080/"
        },
        "id": "MivmhcO8QBax",
        "outputId": "dba2b77e-6450-4196-b5bb-5a93dce82591"
      },
      "execution_count": 15,
      "outputs": [
        {
          "output_type": "stream",
          "name": "stdout",
          "text": [
            "Looking in indexes: https://pypi.org/simple, https://us-python.pkg.dev/colab-wheels/public/simple/\n",
            "Requirement already satisfied: nltk in /usr/local/lib/python3.9/dist-packages (3.8.1)\n",
            "Requirement already satisfied: click in /usr/local/lib/python3.9/dist-packages (from nltk) (8.1.3)\n",
            "Requirement already satisfied: joblib in /usr/local/lib/python3.9/dist-packages (from nltk) (1.2.0)\n",
            "Requirement already satisfied: regex>=2021.8.3 in /usr/local/lib/python3.9/dist-packages (from nltk) (2022.10.31)\n",
            "Requirement already satisfied: tqdm in /usr/local/lib/python3.9/dist-packages (from nltk) (4.65.0)\n"
          ]
        }
      ]
    },
    {
      "cell_type": "code",
      "source": [
        "import nltk\n",
        "from nltk.chat.util import Chat, reflections"
      ],
      "metadata": {
        "id": "KOgCBx7RRtd_"
      },
      "execution_count": 19,
      "outputs": []
    },
    {
      "cell_type": "code",
      "source": [
        "reflections = {\n",
        "  \"i am\"       : \"you are\",\n",
        "  \"i was\"      : \"you were\",\n",
        "  \"i\"          : \"you\",\n",
        "  \"i'm\"        : \"you are\",\n",
        "  \"i'd\"        : \"you would\",\n",
        "  \"i've\"       : \"you have\",\n",
        "  \"i'll\"       : \"you will\",\n",
        "  \"my\"         : \"your\",\n",
        "  \"you are\"    : \"I am\",\n",
        "  \"you were\"   : \"I was\",\n",
        "  \"you've\"     : \"I have\",\n",
        "  \"you'll\"     : \"I will\",\n",
        "  \"your\"       : \"my\",\n",
        "  \"yours\"      : \"mine\",\n",
        "  \"you\"        : \"me\",\n",
        "  \"me\"         : \"you\"\n",
        "}"
      ],
      "metadata": {
        "id": "GNFpJD9VR1YM"
      },
      "execution_count": 20,
      "outputs": []
    },
    {
      "cell_type": "code",
      "source": [
        "pairs = [\n",
        "    [        r\"my name is (.*)\",        [\"Hello %1, How are you today ?\",]    ],\n",
        "    [        r\"hi|hey|hello\",        [\"Hello\", \"Hey there\",]    ], \n",
        "    [        r\"what is your name ?\",        [\"I am a bot. you can call me crazy!\",]    ],\n",
        "    [        r\"how are you ?\",        [\"I'm doing goodnHow about You ?\",]    ],\n",
        "    [        r\"sorry (.*)\",        [\"Its alright\",\"Its OK, never mind\",]    ],\n",
        "    [        r\"I am fine\",        [\"Great to hear that, How can I help you?\",]    ],\n",
        "    [        r\"i'm (.*) doing good\",        [\"Nice to hear that\",\"How can I help you?:)\",]    ],\n",
        "    [        r\"(.*) age?\",        [\"I'm a computer program dudenSeriously you are asking me this?\",]    ],\n",
        "    [        r\"what (.*) want ?\",        [\"Make me an offer I can't refuse\",]    ],\n",
        "    [        r\"(.*) created ?\",        [\"Raghav created me using Python's NLTK library \",\"top secret ;)\",]    ],\n",
        "    [        r\"(.*) (location|city) ?\",        ['Indore, Madhya Pradesh',]    ],\n",
        "    [        r\"how is weather in (.*)?\",        [\"Weather in %1 is awesome like always\",\"Too hot man here in %1\",\"Too cold man here in %1\",\"Never even heard about %1\"]    ],\n",
        "    [        r\"i work in (.*)?\",        [\"%1 is an Amazing company, I have heard about it. But they are in huge loss these days.\",]    ],\n",
        "    [        r\"(.*)raining in (.*)\",        [\"No rain since last week here in %2\",\"Damn its raining too much here in %2\"]    ],\n",
        "    [        r\"how (.*) health(.*)\",        [\"I'm a computer program, so I'm always healthy \",]    ],\n",
        "    [        r\"(.*) (sports|game) ?\",        [\"I'm a very big fan of Football\",]    ],\n",
        "    [        r\"who (.*) sportsperson ?\",        [\"Messy\",\"Ronaldo\",\"Roony\"]    ],\n",
        "    [        r\"who (.*) (moviestar|actor)?\",        [\"Brad Pitt\"]    ],\n",
        "    [        r\"i am looking for online guides and courses to learn data science, can you suggest?\",        [\"Crazy_Tech has many great articles with each step explanation along with code, you can explore\"]    ],\n",
        "    [        r\"quit\",        [\"BBye take care. See you soon :) \",\"It was nice talking to you. See you soon :)\"]    ],\n",
        "]\n",
        "     \n"
      ],
      "metadata": {
        "id": "gUPKjMNTR5Le"
      },
      "execution_count": 21,
      "outputs": []
    },
    {
      "cell_type": "code",
      "source": [
        "def chat():\n",
        "    print(\"Hi! I am a chatbot for your service\")\n",
        "    chat = Chat(pairs, reflections)\n",
        "    chat.converse()\n",
        "#initiate the conversation\n",
        "if __name__ == \"__main__\":\n",
        "    chat()"
      ],
      "metadata": {
        "colab": {
          "base_uri": "https://localhost:8080/"
        },
        "id": "1SOaDL97SCHU",
        "outputId": "5ffc2ca7-521a-49b1-8c79-935e487f17e4"
      },
      "execution_count": 22,
      "outputs": [
        {
          "output_type": "stream",
          "name": "stdout",
          "text": [
            "Hi! I am a chatbot for your service\n",
            ">hello\n",
            "Hey there\n",
            ">what is your name?\n",
            "I am a bot. you can call me crazy!\n",
            ">how are you?\n",
            "I'm doing goodnHow about You ?\n",
            ">what is your age?\n",
            "I'm a computer program dudenSeriously you are asking me this?\n",
            ">what is your game?\n",
            "I'm a very big fan of Football\n",
            ">quit\n",
            "It was nice talking to you. See you soon :)\n"
          ]
        }
      ]
    }
  ]
}